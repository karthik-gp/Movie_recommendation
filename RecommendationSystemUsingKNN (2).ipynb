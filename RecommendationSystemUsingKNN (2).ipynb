{
 "cells": [
  {
   "cell_type": "markdown",
   "id": "0ce93457-e8f0-4137-a398-e11737373081",
   "metadata": {},
   "source": []
  },
  {
   "cell_type": "markdown",
   "id": "01ab7056-65fe-4606-9c77-0cacebe79c91",
   "metadata": {},
   "source": [
    "## **MOVIE RECOMMENDATION SYSTEM** "
   ]
  },
  {
   "cell_type": "markdown",
   "id": "600dc893-13da-47e2-afcf-284a8a945848",
   "metadata": {},
   "source": [
    "### *USING K-NEAREST NEIGHBOURS*"
   ]
  },
  {
   "cell_type": "code",
   "execution_count": 1,
   "id": "324ad165-f54a-49ed-93a9-50d6e22bbcec",
   "metadata": {},
   "outputs": [
    {
     "name": "stdout",
     "output_type": "stream",
     "text": [
      "Requirement already satisfied: fuzzywuzzy in c:\\users\\karth\\anaconda3\\lib\\site-packages (0.18.0)\n"
     ]
    }
   ],
   "source": [
    "import pandas as pd\n",
    "from sklearn.metrics.pairwise import cosine_similarity\n",
    "from sklearn.feature_extraction.text import TfidfVectorizer\n",
    "import difflib\n",
    "import numpy as np\n",
    "import sklearn\n",
    "from sklearn.decomposition import TruncatedSVD\n",
    "import warnings\n",
    "! pip install fuzzywuzzy"
   ]
  },
  {
   "cell_type": "code",
   "execution_count": 2,
   "id": "0536be33-a0ac-4c16-9547-8e73f109017a",
   "metadata": {},
   "outputs": [],
   "source": [
    "#) Reading dataset\n",
    "moviesList1 = pd.read_csv(\"movies.csv\") \n",
    "# moviesList1.head() \n"
   ]
  },
  {
   "cell_type": "code",
   "execution_count": 3,
   "id": "77dc7df5-27a2-4bda-9adc-0dee9dd4be68",
   "metadata": {
    "scrolled": true
   },
   "outputs": [],
   "source": [
    "#)Reading ratings file and using only three columns\n",
    "ratingOfMovie = pd.read_csv(\"ratings.csv\", usecols = ['userId', 'movieId','rating']) \n",
    "rating1 = ratingOfMovie.head(2000000)\n",
    "# rating1.head()"
   ]
  },
  {
   "cell_type": "code",
   "execution_count": null,
   "id": "57d268cb-6d34-4960-a5db-c93a0a7b4fe0",
   "metadata": {},
   "outputs": [],
   "source": []
  },
  {
   "cell_type": "code",
   "execution_count": 4,
   "id": "b8cf44b1",
   "metadata": {},
   "outputs": [],
   "source": [
    "pivoted = rating1.pivot(index = 'movieId', columns = 'userId', values = 'rating').fillna(0) #changing the orientation of the dataframe for easy processing)\n",
    "# pivoted.head() "
   ]
  },
  {
   "cell_type": "code",
   "execution_count": 5,
   "id": "fbb63c65",
   "metadata": {},
   "outputs": [],
   "source": [
    "#) Importing csr matrix\n",
    "from scipy.sparse import csr_matrix "
   ]
  },
  {
   "cell_type": "code",
   "execution_count": 6,
   "id": "ce5470bd",
   "metadata": {},
   "outputs": [],
   "source": [
    "#) Converting dataframe into sparse matrix\n",
    "sparseMovies = csr_matrix(pivoted.values) \n",
    "# sparseMovies"
   ]
  },
  {
   "cell_type": "code",
   "execution_count": 7,
   "id": "951365d4",
   "metadata": {},
   "outputs": [],
   "source": [
    "from sklearn.neighbors import NearestNeighbors #importing KNN"
   ]
  },
  {
   "cell_type": "code",
   "execution_count": 8,
   "id": "bfcfff0f-d9ce-4ffe-8fd7-11d9fb53416f",
   "metadata": {},
   "outputs": [
    {
     "data": {
      "text/plain": [
       "NearestNeighbors(algorithm='brute', metric='cosine', n_neighbors=30)"
      ]
     },
     "execution_count": 8,
     "metadata": {},
     "output_type": "execute_result"
    }
   ],
   "source": [
    "#) Brute forcing the data into the model and using cosine algorithm for finding the nearest neighbors.\n",
    "knnModel = NearestNeighbors(metric = 'cosine' , algorithm = 'brute', n_neighbors = 30) \n",
    "knnModel.fit(sparseMovies)"
   ]
  },
  {
   "cell_type": "code",
   "execution_count": 9,
   "id": "bdf718dd-ca11-4dd3-afe3-c658a6a3ba4c",
   "metadata": {},
   "outputs": [
    {
     "name": "stderr",
     "output_type": "stream",
     "text": [
      "C:\\Users\\karth\\anaconda3\\lib\\site-packages\\fuzzywuzzy\\fuzz.py:11: UserWarning: Using slow pure-python SequenceMatcher. Install python-Levenshtein to remove this warning\n",
      "  warnings.warn('Using slow pure-python SequenceMatcher. Install python-Levenshtein to remove this warning')\n"
     ]
    }
   ],
   "source": [
    "#) Makes the working over the model fast\n",
    "from fuzzywuzzy import process "
   ]
  },
  {
   "cell_type": "code",
   "execution_count": 10,
   "id": "bb8a7244-0187-4893-8e16-b6d685902fc0",
   "metadata": {},
   "outputs": [],
   "source": [
    "#creating a recommender system function which will recommend the movies to the user using index which are nearer to the selected movie indexes.\n",
    "def recommend(movieName,dataMovies,points):\n",
    "    index = process.extractOne(movieName,moviesList1['title'])[2]\n",
    "    print('Movie you have selected:', moviesList1['title'][index], 'Index:', index)\n",
    "    clusterDistance,indice = knnModel.kneighbors(dataMovies[index],n_neighbors=points)\n",
    "    print(\"THE MOVIES WE RECOMMEND FOR YOU IS:\")\n",
    "    for i in indice:\n",
    "        print(moviesList1['title'][i].where(i!=index)) "
   ]
  },
  {
   "cell_type": "code",
   "execution_count": 14,
   "id": "0824b641-8e9c-484b-9cf3-4f5709f4b454",
   "metadata": {},
   "outputs": [
    {
     "name": "stdout",
     "output_type": "stream",
     "text": [
      "Movie you have selected: Man of the Year (1995) Index: 135\n",
      "THE MOVIES WE RECOMMEND FOR YOU IS:\n",
      "135                                                   NaN\n",
      "771                                 Cable Guy, The (1996)\n",
      "89                     Journey of August King, The (1995)\n",
      "818                               High School High (1996)\n",
      "845           Maybe, Maybe Not (Bewegte Mann, Der) (1994)\n",
      "1081                         Rebel Without a Cause (1955)\n",
      "797                                         Kazaam (1996)\n",
      "831                                          Flirt (1995)\n",
      "1322                              Albino Alligator (1996)\n",
      "857          Shadow of Angels (Schatten der Engel) (1976)\n",
      "1043                                         Johns (1996)\n",
      "770                   Hunchback of Notre Dame, The (1996)\n",
      "622                                           Rude (1995)\n",
      "832                               Big Squeeze, The (1996)\n",
      "794     Rendezvous in Paris (Rendez-vous de Paris, Les...\n",
      "792                                Time to Kill, A (1996)\n",
      "868                                          Bogus (1996)\n",
      "134               From the Journals of Jean Seberg (1995)\n",
      "122        Star Maker, The (Uomo delle stelle, L') (1995)\n",
      "1066                                 Dirty Dancing (1987)\n",
      "Name: title, dtype: object\n"
     ]
    }
   ],
   "source": [
    "%timeit\n",
    "recommend('man of the year',sparseMovies,20)"
   ]
  },
  {
   "cell_type": "code",
   "execution_count": 12,
   "id": "e0739038-8a01-45e2-80bd-f2de0c7dab75",
   "metadata": {},
   "outputs": [
    {
     "data": {
      "text/plain": [
       "\u001b[1;31mDocstring:\u001b[0m\n",
       "Time execution of a Python statement or expression\n",
       "\n",
       "Usage, in line mode:\n",
       "  %timeit [-n<N> -r<R> [-t|-c] -q -p<P> -o] statement\n",
       "or in cell mode:\n",
       "  %%timeit [-n<N> -r<R> [-t|-c] -q -p<P> -o] setup_code\n",
       "  code\n",
       "  code...\n",
       "\n",
       "Time execution of a Python statement or expression using the timeit\n",
       "module.  This function can be used both as a line and cell magic:\n",
       "\n",
       "- In line mode you can time a single-line statement (though multiple\n",
       "  ones can be chained with using semicolons).\n",
       "\n",
       "- In cell mode, the statement in the first line is used as setup code\n",
       "  (executed but not timed) and the body of the cell is timed.  The cell\n",
       "  body has access to any variables created in the setup code.\n",
       "\n",
       "Options:\n",
       "-n<N>: execute the given statement <N> times in a loop. If <N> is not\n",
       "provided, <N> is determined so as to get sufficient accuracy.\n",
       "\n",
       "-r<R>: number of repeats <R>, each consisting of <N> loops, and take the\n",
       "best result.\n",
       "Default: 7\n",
       "\n",
       "-t: use time.time to measure the time, which is the default on Unix.\n",
       "This function measures wall time.\n",
       "\n",
       "-c: use time.clock to measure the time, which is the default on\n",
       "Windows and measures wall time. On Unix, resource.getrusage is used\n",
       "instead and returns the CPU user time.\n",
       "\n",
       "-p<P>: use a precision of <P> digits to display the timing result.\n",
       "Default: 3\n",
       "\n",
       "-q: Quiet, do not print result.\n",
       "\n",
       "-o: return a TimeitResult that can be stored in a variable to inspect\n",
       "    the result in more details.\n",
       "\n",
       ".. versionchanged:: 7.3\n",
       "    User variables are no longer expanded,\n",
       "    the magic line is always left unmodified.\n",
       "\n",
       "Examples\n",
       "--------\n",
       "::\n",
       "\n",
       "  In [1]: %timeit pass\n",
       "  8.26 ns ± 0.12 ns per loop (mean ± std. dev. of 7 runs, 100000000 loops each)\n",
       "\n",
       "  In [2]: u = None\n",
       "\n",
       "  In [3]: %timeit u is None\n",
       "  29.9 ns ± 0.643 ns per loop (mean ± std. dev. of 7 runs, 10000000 loops each)\n",
       "\n",
       "  In [4]: %timeit -r 4 u == None\n",
       "\n",
       "  In [5]: import time\n",
       "\n",
       "  In [6]: %timeit -n1 time.sleep(2)\n",
       "\n",
       "The times reported by %timeit will be slightly higher than those\n",
       "reported by the timeit.py script when variables are accessed. This is\n",
       "due to the fact that %timeit executes the statement in the namespace\n",
       "of the shell, compared with timeit.py, which uses a single setup\n",
       "statement to import function or create variables. Generally, the bias\n",
       "does not matter as long as results from timeit.py are not mixed with\n",
       "those from %timeit.\n",
       "\u001b[1;31mFile:\u001b[0m      c:\\users\\karth\\anaconda3\\lib\\site-packages\\ipython\\core\\magics\\execution.py\n"
      ]
     },
     "metadata": {},
     "output_type": "display_data"
    }
   ],
   "source": []
  },
  {
   "cell_type": "code",
   "execution_count": null,
   "id": "caa708a6-852c-4077-8136-758adece4d32",
   "metadata": {},
   "outputs": [],
   "source": [
    "### *USING COSINE SIMILARITY*"
   ]
  },
  {
   "cell_type": "code",
   "execution_count": null,
   "id": "79354564-f725-496d-85ba-a4c8043ebb37",
   "metadata": {},
   "outputs": [],
   "source": [
    "#) Importing datas\n",
    "movie1=pd.read_csv(\"movies.csv\")\n",
    "movie=movie1\n",
    "# print(movie.head(5))"
   ]
  },
  {
   "cell_type": "code",
   "execution_count": null,
   "id": "c7e6e7d8-e2e4-4bb8-a349-ced7ec8ca44b",
   "metadata": {},
   "outputs": [],
   "source": [
    "#) Relevent columns for predictions\n",
    "relevant_columns=['title','genres','movieId']\n",
    "# print(relevant_columns)"
   ]
  },
  {
   "cell_type": "code",
   "execution_count": null,
   "id": "6ad332f5-61d3-4172-bb02-c655b216a1a1",
   "metadata": {},
   "outputs": [],
   "source": [
    "for index1 in relevant_columns:\n",
    "    movie[index1]=movie[index1].fillna('')"
   ]
  },
  {
   "cell_type": "code",
   "execution_count": null,
   "id": "6ba007b8-eb75-4b86-9be7-2b6f8f31e78f",
   "metadata": {},
   "outputs": [],
   "source": [
    "#) Combine columns\n",
    "combine_columns=movie['title']+' '+movie['genres']\n",
    "# print(combine_columns)"
   ]
  },
  {
   "cell_type": "code",
   "execution_count": null,
   "id": "57c56530-c467-4dc7-829e-f1960292754a",
   "metadata": {},
   "outputs": [],
   "source": [
    "#) Converting text to feature vector\n",
    "vector = TfidfVectorizer()\n",
    "feature_vector=vector.fit_transform(combine_columns)"
   ]
  },
  {
   "cell_type": "code",
   "execution_count": null,
   "id": "ad1f53bb-c83d-4742-83fd-3f76ce2e4249",
   "metadata": {},
   "outputs": [],
   "source": [
    "#) Similarity score using cosine similarity\n",
    "similarity_score=cosine_similarity(feature_vector)\n",
    "# print(similarity_score)"
   ]
  },
  {
   "cell_type": "code",
   "execution_count": null,
   "id": "922a6ddb-f719-4f90-9f4c-a101ac89efa5",
   "metadata": {},
   "outputs": [],
   "source": [
    "#) Input user \n",
    "ask_movie=input('Enter your favorite movie')"
   ]
  },
  {
   "cell_type": "code",
   "execution_count": null,
   "id": "826b2e6a-2e90-4b0f-acd6-36bae5f5e914",
   "metadata": {},
   "outputs": [],
   "source": [
    "#) list of all movies\n",
    "list_all_movies=movie['title'].tolist()"
   ]
  },
  {
   "cell_type": "code",
   "execution_count": null,
   "id": "18a8e2b9-ebb8-4fa4-89d5-af9690b9a3ed",
   "metadata": {},
   "outputs": [],
   "source": [
    "#) Match movies\n",
    "matched_movie=difflib.get_close_matches(ask_movie,list_all_movies)\n",
    "print(matched_movie)"
   ]
  },
  {
   "cell_type": "code",
   "execution_count": null,
   "id": "fc20ed14-b214-45f8-b6c9-3730d6d12c55",
   "metadata": {},
   "outputs": [],
   "source": [
    "precise_match=matched_movie[0]\n",
    "print(precise_match)"
   ]
  },
  {
   "cell_type": "code",
   "execution_count": null,
   "id": "0dffad64-6582-4c4d-b0bf-e0df9b104aa0",
   "metadata": {},
   "outputs": [],
   "source": [
    "#) list of similar movies\n",
    "movieid = movie.index[movie.title == precise_match].values[0]\n",
    "print(movieid)"
   ]
  },
  {
   "cell_type": "code",
   "execution_count": null,
   "id": "907a227c-c096-440d-b7bf-1d9831b187c7",
   "metadata": {},
   "outputs": [],
   "source": [
    "similar_movie=list(enumerate(similarity_score[movieid]))"
   ]
  },
  {
   "cell_type": "code",
   "execution_count": null,
   "id": "64e349c0-0bd9-4198-9b55-f566dc125c05",
   "metadata": {},
   "outputs": [],
   "source": [
    "#) Sort movies according to similarity score\n",
    "sort_movie=sorted(similar_movie,key=lambda x:x[1],reverse=True)\n"
   ]
  },
  {
   "cell_type": "code",
   "execution_count": null,
   "id": "4ab3bb11-d16f-4e9c-abd6-433a71dde398",
   "metadata": {},
   "outputs": [],
   "source": [
    "#) Final output\n",
    "print('Suggested Movies \\n')\n",
    "k=1\n",
    "\n",
    "for m in sort_movie:\n",
    "    index = m[0]\n",
    "    titleindex=movie[movie.index == index]['title'].values[0]\n",
    "    if(k<10):\n",
    "        print(k,titleindex)\n",
    "        k+=1"
   ]
  },
  {
   "cell_type": "code",
   "execution_count": null,
   "id": "aeb12506-f778-4f69-9543-8b4a4e581dcf",
   "metadata": {},
   "outputs": [],
   "source": []
  },
  {
   "cell_type": "code",
   "execution_count": null,
   "id": "9b13d1c2-69d9-4dce-84e4-ab27957e92f6",
   "metadata": {},
   "outputs": [],
   "source": [
    "### *USING MATRIX FACTORIZATION*"
   ]
  },
  {
   "cell_type": "code",
   "execution_count": null,
   "id": "3e0d9aac-a427-4ca7-8097-f45200634d13",
   "metadata": {},
   "outputs": [],
   "source": [
    "#) Importing datas\n",
    "movie=pd.read_csv('movies.csv')\n",
    "# print(movie.head(10))\n",
    "movie_rating1=pd.read_csv('ratings.csv')\n",
    "movie_rating=movie_rating1.head(1000000)"
   ]
  },
  {
   "cell_type": "code",
   "execution_count": null,
   "id": "e7b3f0b0-ebd6-4fbc-8403-1d9e2caa2022",
   "metadata": {},
   "outputs": [],
   "source": [
    "#) Combining the dataset on the basis of movieId\n",
    "combine=pd.merge(movie,movie_rating,on='movieId')"
   ]
  },
  {
   "cell_type": "code",
   "execution_count": null,
   "id": "006390cb-7148-44e7-a3c9-dd30c7e8ddab",
   "metadata": {},
   "outputs": [],
   "source": [
    "#) Removing timestamp and genres column\n",
    "column=['timestamp','genres']\n",
    "combine=combine.drop(column,axis=1)\n",
    "# print(combine.head(10))"
   ]
  },
  {
   "cell_type": "code",
   "execution_count": null,
   "id": "c58ff28c-5fd8-4ea0-a6bc-da7d3fe6a56d",
   "metadata": {},
   "outputs": [],
   "source": [
    "combine=combine.dropna(axis=0,subset=['title'])\n",
    "rate_movie = (combine.\n",
    "              groupby(by = ['title'])['rating'].\n",
    "              count().\n",
    "              reset_index().\n",
    "              rename(columns = {'rating' : 'totalRating'})\n",
    "              [['title' , 'totalRating']]\n",
    "             )\n",
    "# rate_movie.head(10)"
   ]
  },
  {
   "cell_type": "code",
   "execution_count": null,
   "id": "d8a5da0b-8fae-4de1-aac6-a2ef702b4ffa",
   "metadata": {},
   "outputs": [],
   "source": [
    "total_rating=combine.merge(rate_movie,right_on='title',left_on='title',how='left')\n",
    "# print(total_rating.head(10))"
   ]
  },
  {
   "cell_type": "code",
   "execution_count": null,
   "id": "15a7d5c6-3f9e-4ddf-a588-f81319b08b35",
   "metadata": {},
   "outputs": [],
   "source": [
    "u_rate=total_rating.drop_duplicates(['userId','title'])\n",
    "# print(u_rate.head(10))"
   ]
  },
  {
   "cell_type": "code",
   "execution_count": null,
   "id": "87ac165f-c218-40ce-9c44-5746a05797a8",
   "metadata": {},
   "outputs": [],
   "source": [
    "#) Matrix Factorization"
   ]
  },
  {
   "cell_type": "code",
   "execution_count": null,
   "id": "959b7d90-a123-4489-be12-183c0a8db039",
   "metadata": {},
   "outputs": [],
   "source": [
    "#) Create matrix and fill the matrix with value 0\n",
    "movie_pivot=u_rate.pivot(index='userId',columns='title',values='rating').fillna(0)\n",
    "# print(movie_pivot.head(10))"
   ]
  },
  {
   "cell_type": "code",
   "execution_count": null,
   "id": "27813529-9d9b-4659-935e-ba85b3dcf6fd",
   "metadata": {},
   "outputs": [],
   "source": [
    "kp=movie_pivot.values.T"
   ]
  },
  {
   "cell_type": "code",
   "execution_count": null,
   "id": "7ef3922d-94b2-4639-bc60-c79a6c78d9c0",
   "metadata": {},
   "outputs": [],
   "source": [
    "svd=TruncatedSVD(n_components=10,random_state=18)\n",
    "m=svd.fit_transform(kp)"
   ]
  },
  {
   "cell_type": "code",
   "execution_count": null,
   "id": "5728c41e-bcc9-44c0-a958-1e283e7ed6be",
   "metadata": {},
   "outputs": [],
   "source": [
    "\n",
    "warnings.filterwarnings(\"ignore\",category=RuntimeWarning)\n",
    "correct=np.corrcoef(m)"
   ]
  },
  {
   "cell_type": "code",
   "execution_count": null,
   "id": "6eb49dff-eb53-49bf-ac0e-5dd491d41c99",
   "metadata": {},
   "outputs": [],
   "source": [
    "input_movie=movie_pivot.columns\n",
    "list_movie=list(input_movie)\n",
    "user_movie=list_movie.index(\"Toy Story (1995)\")"
   ]
  },
  {
   "cell_type": "code",
   "execution_count": null,
   "id": "48235e51-e8f4-4614-bff1-784d46e5581b",
   "metadata": {},
   "outputs": [],
   "source": [
    "#) Final output\n",
    "predicted_movie=correct[user_movie]\n",
    "list(input_movie[(predicted_movie >= 0.92)])"
   ]
  }
 ],
 "metadata": {
  "kernelspec": {
   "display_name": "Python 3 (ipykernel)",
   "language": "python",
   "name": "python3"
  },
  "language_info": {
   "codemirror_mode": {
    "name": "ipython",
    "version": 3
   },
   "file_extension": ".py",
   "mimetype": "text/x-python",
   "name": "python",
   "nbconvert_exporter": "python",
   "pygments_lexer": "ipython3",
   "version": "3.9.12"
  },
  "toc-autonumbering": true,
  "toc-showmarkdowntxt": false,
  "toc-showtags": true
 },
 "nbformat": 4,
 "nbformat_minor": 5
}
